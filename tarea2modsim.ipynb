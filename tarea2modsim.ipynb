{
 "cells": [
  {
   "cell_type": "markdown",
   "metadata": {},
   "source": [
    "<h1>Tarea 2 - Laura Abreu Schulz Vieira<h1>"
   ]
  },
  {
   "cell_type": "markdown",
   "metadata": {},
   "source": [
    "<h3>Ejercício 4c) guia 3</h3>\n",
    "    "
   ]
  },
  {
   "cell_type": "code",
   "execution_count": 50,
   "metadata": {},
   "outputs": [],
   "source": [
    "import random\n",
    "import numpy as np"
   ]
  },
  {
   "cell_type": "code",
   "execution_count": 33,
   "metadata": {},
   "outputs": [],
   "source": [
    "def iniciate_list_cashier():\n",
    "    return [1]*40 + [2]*32 + [3]*28\n",
    "\n",
    "def chose_cashier():\n",
    "    return random.choice(iniciate_list_cashier())\n",
    "\n",
    "def waiting_time(cashier):\n",
    "    if cashier == 1:\n",
    "        return np.random.exponential(3)\n",
    "    elif cashier == 2:\n",
    "        return np.random.exponential(4)\n",
    "    else:\n",
    "        return np.random.exponential(5)"
   ]
  },
  {
   "cell_type": "markdown",
   "metadata": {},
   "source": [
    "Aquí defino las funciones que hacen una simulacíon de una elección aleatória del caja de acuerdo con las probabilidades dadas (chose_cashier) y una simulación de un tiempo de espera de acuerdo con cada caja (waiting_time)."
   ]
  },
  {
   "cell_type": "markdown",
   "metadata": {},
   "source": [
    "<h5>4a)</h5>"
   ]
  },
  {
   "cell_type": "code",
   "execution_count": 40,
   "metadata": {},
   "outputs": [
    {
     "data": {
      "text/plain": [
       "654"
      ]
     },
     "execution_count": 40,
     "metadata": {},
     "output_type": "execute_result"
    }
   ],
   "source": [
    "less_than_four = 0\n",
    "for _ in range(1000):\n",
    "    cashier = chose_cashier()\n",
    "    time = waiting_time(cashier)\n",
    "    if time < 4:\n",
    "        less_than_four += 1\n",
    "        \n",
    "less_than_four"
   ]
  },
  {
   "cell_type": "markdown",
   "metadata": {},
   "source": [
    "Aqui, veo cuantas veces, en mil iteraciones, las personas fueran atendidas en menos de cuatro minutos. En el ejercício encontramos que aprojimadamente el 65% de las veces el atendimiento debe ser hecho en este tiempo. Entonces, el numero encontrado debería estar cerda de eso. \n",
    "\n",
    "Abajo, repetí este proceso 1000 veces y hice un histograma para que sea más fácil ver la convergencia para ese porcentaje:\n"
   ]
  },
  {
   "cell_type": "code",
   "execution_count": 44,
   "metadata": {},
   "outputs": [
    {
     "data": {
      "image/png": "[encoded data removed]",
      "text/plain": [
       "<Figure size 432x288 with 1 Axes>"
      ]
     },
     "metadata": {
      "needs_background": "light"
     },
     "output_type": "display_data"
    }
   ],
   "source": [
    "import matplotlib.pyplot as plt\n",
    "\n",
    "results = []\n",
    "for i in range(1000):\n",
    "    less_than_four = 0\n",
    "    for _ in range(1000):\n",
    "        cashier = chose_cashier()\n",
    "        time = waiting_time(cashier)\n",
    "        if time < 4:\n",
    "            less_than_four += 1\n",
    "    results.append(less_than_four)\n",
    "    \n",
    "plt.hist(results, bins = 50)\n",
    "plt.show()"
   ]
  },
  {
   "cell_type": "markdown",
   "metadata": {},
   "source": [
    "Es posible observar la convergencia del histograma para aprojimadamente 65%.\n",
    "\n",
    "<h5>4b)</h5>"
   ]
  },
  {
   "cell_type": "code",
   "execution_count": 45,
   "metadata": {},
   "outputs": [
    {
     "data": {
      "text/plain": [
       "[297, 321, 382]"
      ]
     },
     "execution_count": 45,
     "metadata": {},
     "output_type": "execute_result"
    }
   ],
   "source": [
    "more_than_four = 0\n",
    "cashiers = [0,0,0]\n",
    "while(more_than_four < 1000):\n",
    "    cashier = chose_cashier()\n",
    "    time = waiting_time(cashier)\n",
    "    if time >= 4:\n",
    "        more_than_four += 1\n",
    "        cashiers[cashier-1] += 1\n",
    "        \n",
    "cashiers\n",
    "            "
   ]
  },
  {
   "cell_type": "markdown",
   "metadata": {},
   "source": [
    "Aquí, después de 1000 iteraciones en que las personas esperan más de cuatro minutos, veo cuantos están en cada caja. En el ejercício, fue observado que las proporciones san de aproj. 0.30 caja 1, 0.34 caja 2 y 0.36 caja 1. Se puede observar que sigue la proporción.\n",
    "\n",
    "Abajo, observamos para cada caja un histograma verificando las proporciones: "
   ]
  },
  {
   "cell_type": "code",
   "execution_count": 46,
   "metadata": {},
   "outputs": [
    {
     "data": {
      "image/png": "[encoded data removed]",
      "text/plain": [
       "<Figure size 432x288 with 1 Axes>"
      ]
     },
     "metadata": {
      "needs_background": "light"
     },
     "output_type": "display_data"
    }
   ],
   "source": [
    "caja1 = []\n",
    "caja2 = []\n",
    "caja3 = []\n",
    "\n",
    "for _ in range(1000):\n",
    "    more_than_four = 0\n",
    "    cashiers = [0,0,0]\n",
    "    while(more_than_four < 1000):\n",
    "        cashier = chose_cashier()\n",
    "        time = waiting_time(cashier)\n",
    "        if time >= 4:\n",
    "            more_than_four += 1\n",
    "            cashiers[cashier-1] += 1\n",
    "    caja1.append(cashiers[0])\n",
    "    caja2.append(cashiers[1])\n",
    "    caja3.append(cashiers[2])\n",
    "    \n",
    "plt.hist(caja1, bins = 50)\n",
    "plt.show()"
   ]
  },
  {
   "cell_type": "code",
   "execution_count": 47,
   "metadata": {},
   "outputs": [
    {
     "data": {
      "image/png": "[encoded data removed]",
      "text/plain": [
       "<Figure size 432x288 with 1 Axes>"
      ]
     },
     "metadata": {
      "needs_background": "light"
     },
     "output_type": "display_data"
    }
   ],
   "source": [
    "plt.hist(caja2, bins = 50)\n",
    "plt.show()"
   ]
  },
  {
   "cell_type": "code",
   "execution_count": 48,
   "metadata": {
    "scrolled": true
   },
   "outputs": [
    {
     "data": {
      "image/png": "[encoded data removed]",
      "text/plain": [
       "<Figure size 432x288 with 1 Axes>"
      ]
     },
     "metadata": {
      "needs_background": "light"
     },
     "output_type": "display_data"
    }
   ],
   "source": [
    "plt.hist(caja3, bins = 50)\n",
    "plt.show()"
   ]
  },
  {
   "cell_type": "markdown",
   "metadata": {},
   "source": [
    "<h3>Ejercício 5e) guia 4</h3>\n",
    "\n",
    "Primero, verifiqué que la respuesta exacta de el ejercício es 0.5. \n",
    "Entonces, segui a resolver la integral por el método de Monte Carlo:\n",
    "\n",
    "Para esto, primero simplifiqué la integral de doble a simple, resolviendo la dy, de modo que solo quedara la integral con la variable x. \n",
    "Después, cambié las variables para que los límites de integración sean de 0 a 1 (todo hecho en la mano).\n",
    "Hecho esto, se podría resolver por el método de Monte Carlo. El código está abajo para n = 100, 1000, 10000, 100000, 1000000, y sus respectivos histogramas con 100 iteraciones de cada, aproximando mejor la respuesta. "
   ]
  },
  {
   "cell_type": "code",
   "execution_count": 54,
   "metadata": {},
   "outputs": [],
   "source": [
    "def func(y): \n",
    "    return ((-np.exp((-2)*((1/y) - 1))+np.exp(-((1/y)-1)))*(1/(y**2)))\n",
    "\n",
    "#función de integración ya adaptada y sus variables fijas"
   ]
  },
  {
   "cell_type": "code",
   "execution_count": 53,
   "metadata": {},
   "outputs": [
    {
     "data": {
      "image/png": "[encoded data removed]",
      "text/plain": [
       "<Figure size 432x288 with 1 Axes>"
      ]
     },
     "metadata": {
      "needs_background": "light"
     },
     "output_type": "display_data"
    }
   ],
   "source": [
    "#100 iteraciones\n",
    "\n",
    "n = 100\n",
    "results = []\n",
    "\n",
    "for _ in range(100):\n",
    "    xrand = np.zeros(n)\n",
    "    for i in range(n):\n",
    "        xrand[i] = random.uniform(0, 1) \n",
    "    integral = 0.0\n",
    "    for i in range(n):\n",
    "        integral += func(xrand[i])    \n",
    "    ans = 1/float(n)*integral\n",
    "    results.append(ans)\n",
    "\n",
    "plt.hist(results, bins = 15)\n",
    "plt.show()"
   ]
  },
  {
   "cell_type": "code",
   "execution_count": 60,
   "metadata": {},
   "outputs": [
    {
     "data": {
      "image/png": "[encoded data removed]",
      "text/plain": [
       "<Figure size 432x288 with 1 Axes>"
      ]
     },
     "metadata": {
      "needs_background": "light"
     },
     "output_type": "display_data"
    }
   ],
   "source": [
    "#1000 iteraciones\n",
    "\n",
    "n = 1000\n",
    "results = []\n",
    "\n",
    "for _ in range(100):\n",
    "    xrand = np.zeros(n)\n",
    "    for i in range(n):\n",
    "        xrand[i] = random.uniform(0, 1) \n",
    "    integral = 0.0\n",
    "    for i in range(n):\n",
    "        integral += func(xrand[i])    \n",
    "    ans = 1/float(n)*integral\n",
    "    results.append(ans)\n",
    "\n",
    "plt.hist(results, bins = 15)\n",
    "plt.show()"
   ]
  },
  {
   "cell_type": "code",
   "execution_count": 61,
   "metadata": {},
   "outputs": [
    {
     "data": {
      "image/png": "[encoded data removed]",
      "text/plain": [
       "<Figure size 432x288 with 1 Axes>"
      ]
     },
     "metadata": {
      "needs_background": "light"
     },
     "output_type": "display_data"
    }
   ],
   "source": [
    "#10000 iteraciones\n",
    "\n",
    "n = 10000\n",
    "results = []\n",
    "\n",
    "for _ in range(100):\n",
    "    xrand = np.zeros(n)\n",
    "    for i in range(n):\n",
    "        xrand[i] = random.uniform(0, 1) \n",
    "    integral = 0.0\n",
    "    for i in range(n):\n",
    "        integral += func(xrand[i])    \n",
    "    ans = 1/float(n)*integral\n",
    "    results.append(ans)\n",
    "\n",
    "plt.hist(results, bins = 15)\n",
    "plt.show()"
   ]
  },
  {
   "cell_type": "code",
   "execution_count": 62,
   "metadata": {},
   "outputs": [
    {
     "data": {
      "image/png": "[encoded data removed]",
      "text/plain": [
       "<Figure size 432x288 with 1 Axes>"
      ]
     },
     "metadata": {
      "needs_background": "light"
     },
     "output_type": "display_data"
    }
   ],
   "source": [
    "#100000 iteraciones\n",
    "\n",
    "n = 100000\n",
    "results = []\n",
    "\n",
    "for _ in range(100):\n",
    "    xrand = np.zeros(n)\n",
    "    for i in range(n):\n",
    "        xrand[i] = random.uniform(0, 1) \n",
    "    integral = 0.0\n",
    "    for i in range(n):\n",
    "        integral += func(xrand[i])    \n",
    "    ans = 1/float(n)*integral\n",
    "    results.append(ans)\n",
    "\n",
    "plt.hist(results, bins = 15)\n",
    "plt.show()"
   ]
  },
  {
   "cell_type": "code",
   "execution_count": 63,
   "metadata": {},
   "outputs": [
    {
     "data": {
      "image/png": "[encoded data removed]",
      "text/plain": [
       "<Figure size 432x288 with 1 Axes>"
      ]
     },
     "metadata": {
      "needs_background": "light"
     },
     "output_type": "display_data"
    }
   ],
   "source": [
    "#1000000 iteraciones\n",
    "\n",
    "n = 1000000\n",
    "results = []\n",
    "\n",
    "for _ in range(100):\n",
    "    xrand = np.zeros(n)\n",
    "    for i in range(n):\n",
    "        xrand[i] = random.uniform(0, 1) \n",
    "    integral = 0.0\n",
    "    for i in range(n):\n",
    "        integral += func(xrand[i])    \n",
    "    ans = 1/float(n)*integral\n",
    "    results.append(ans)\n",
    "\n",
    "plt.hist(results, bins = 15)\n",
    "plt.show()"
   ]
  },
  {
   "cell_type": "markdown",
   "metadata": {},
   "source": [
    "Observamos en los histogramas que las márgenes de error disminuyen cada vez más con el aumento del número de iteraciones. Entonces, aumenta la precisión de el método. "
   ]
  },
  {
   "cell_type": "code",
   "execution_count": null,
   "metadata": {},
   "outputs": [],
   "source": []
  },
  {
   "cell_type": "code",
   "execution_count": null,
   "metadata": {},
   "outputs": [],
   "source": []
  },
  {
   "cell_type": "code",
   "execution_count": null,
   "metadata": {},
   "outputs": [],
   "source": []
  },
  {
   "cell_type": "code",
   "execution_count": null,
   "metadata": {},
   "outputs": [],
   "source": []
  },
  {
   "cell_type": "code",
   "execution_count": null,
   "metadata": {},
   "outputs": [],
   "source": []
  },
  {
   "cell_type": "code",
   "execution_count": null,
   "metadata": {},
   "outputs": [],
   "source": []
  }
 ],
 "metadata": {
  "kernelspec": {
   "display_name": "Python 3",
   "language": "python",
   "name": "python3"
  },
  "language_info": {
   "codemirror_mode": {
    "name": "ipython",
    "version": 3
   },
   "file_extension": ".py",
   "mimetype": "text/x-python",
   "name": "python",
   "nbconvert_exporter": "python",
   "pygments_lexer": "ipython3",
   "version": "3.7.3"
  }
 },
 "nbformat": 4,
 "nbformat_minor": 2
}
